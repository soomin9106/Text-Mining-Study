{
 "cells": [
  {
   "cell_type": "markdown",
   "id": "5b1f46d7",
   "metadata": {},
   "source": [
    "Reading Datas "
   ]
  },
  {
   "cell_type": "code",
   "execution_count": 1,
   "id": "0cc2d781",
   "metadata": {},
   "outputs": [],
   "source": [
    "DATA_IN_PATH = \"C:/Users/user/data_in\""
   ]
  },
  {
   "cell_type": "code",
   "execution_count": 2,
   "id": "35600caa",
   "metadata": {},
   "outputs": [],
   "source": [
    "#reading files\n",
    "def read_file(input_path):\n",
    "    with open(input_path,\"r\",encoding=\"utf-8\") as f:\n",
    "        sentences = []\n",
    "        labels = []\n",
    "        for line in f:\n",
    "            split_line = line.strip().split(\"\\t\")\n",
    "            sentences.append(split_line[0])\n",
    "            labels.append(split_line[1])\n",
    "            \n",
    "        return sentences, labels"
   ]
  },
  {
   "cell_type": "code",
   "execution_count": 3,
   "id": "2054b109",
   "metadata": {},
   "outputs": [],
   "source": [
    "import os \n",
    "\n",
    "DATA_TRAIN_PATH = os.path.join(DATA_IN_PATH, \"train.tsv\")\n",
    "DATA_TEST_PATH = os.path.join(DATA_IN_PATH, \"test.tsv\")\n",
    "DATA_LABEL_PATH = os.path.join(DATA_IN_PATH, \"label.txt\")"
   ]
  },
  {
   "cell_type": "code",
   "execution_count": 4,
   "id": "41edb7bd",
   "metadata": {},
   "outputs": [],
   "source": [
    "train_sentences, train_labels = read_file(DATA_TRAIN_PATH)"
   ]
  },
  {
   "cell_type": "code",
   "execution_count": 5,
   "id": "bbb2057f",
   "metadata": {},
   "outputs": [
    {
     "name": "stdout",
     "output_type": "stream",
     "text": [
      "금석객잔 여러분, 감사드립니다 .\n"
     ]
    }
   ],
   "source": [
    "print(train_sentences[0])"
   ]
  },
  {
   "cell_type": "code",
   "execution_count": 6,
   "id": "a629696f",
   "metadata": {},
   "outputs": [],
   "source": [
    "test_sentences, test_labels = read_file(DATA_TEST_PATH)\n",
    "ner_sentences  = train_sentences + test_sentences\n",
    "ner_labels = train_labels + test_labels"
   ]
  },
  {
   "cell_type": "code",
   "execution_count": 7,
   "id": "80364e89",
   "metadata": {},
   "outputs": [
    {
     "name": "stdout",
     "output_type": "stream",
     "text": [
      "7-8위 결정전에서 김중배 무스파타(샌안토니오)가 참은 법국을 누르고 유럽축구선수권대회 출격권을 점유했다 .\n",
      "EVT-B EVT-I PER-B PER-I O LOC-B O EVT-B CVL-B O O\n"
     ]
    }
   ],
   "source": [
    "print(ner_sentences[2])\n",
    "print(ner_labels[2])"
   ]
  },
  {
   "cell_type": "code",
   "execution_count": 8,
   "id": "1900b596",
   "metadata": {},
   "outputs": [
    {
     "name": "stdout",
     "output_type": "stream",
     "text": [
      "금석객잔 여러분, 감사드립니다 .\n",
      "ORG-B O O O\n"
     ]
    }
   ],
   "source": [
    "print(ner_sentences[0])\n",
    "print(ner_labels[0])"
   ]
  },
  {
   "cell_type": "code",
   "execution_count": 9,
   "id": "aa147f52",
   "metadata": {},
   "outputs": [
    {
     "name": "stdout",
     "output_type": "stream",
     "text": [
      "서두가 역할의 소하젓은 다름아닌 쿠마리 씨였대요 .\n",
      "O O CVL-B O PER-B O O\n"
     ]
    }
   ],
   "source": [
    "print(ner_sentences[10])\n",
    "print(ner_labels[10])"
   ]
  },
  {
   "cell_type": "code",
   "execution_count": 10,
   "id": "f4b5596a",
   "metadata": {},
   "outputs": [],
   "source": [
    "new_ner_sentences = [];\n",
    "\n",
    "for sentence in ner_sentences:\n",
    "    string_list = sentence.split()\n",
    "    new_ner_sentences.append(string_list)"
   ]
  },
  {
   "cell_type": "code",
   "execution_count": 11,
   "id": "69024ae8",
   "metadata": {},
   "outputs": [],
   "source": [
    "new_ner_labels = [];\n",
    "\n",
    "for label in ner_labels:\n",
    "    string_list = label.split()\n",
    "    new_ner_labels.append(string_list)"
   ]
  },
  {
   "cell_type": "code",
   "execution_count": 12,
   "id": "6b1bc584",
   "metadata": {},
   "outputs": [
    {
     "name": "stdout",
     "output_type": "stream",
     "text": [
      "['금석객잔', '여러분,', '감사드립니다', '.']\n",
      "['ORG-B', 'O', 'O', 'O']\n"
     ]
    }
   ],
   "source": [
    "print(new_ner_sentences[0])\n",
    "print(new_ner_labels[0])"
   ]
  },
  {
   "cell_type": "markdown",
   "id": "a95fc663",
   "metadata": {},
   "source": [
    "EDA"
   ]
  },
  {
   "cell_type": "code",
   "execution_count": 13,
   "id": "63fd4150",
   "metadata": {},
   "outputs": [],
   "source": [
    "import pandas as pd\n",
    "\n",
    "ner_dict = {\"sentence\":ner_sentences, \"label\":ner_labels}\n",
    "ner_df = pd.DataFrame(ner_dict)"
   ]
  },
  {
   "cell_type": "code",
   "execution_count": 14,
   "id": "d33abb2d",
   "metadata": {},
   "outputs": [
    {
     "name": "stdout",
     "output_type": "stream",
     "text": [
      "True\n"
     ]
    }
   ],
   "source": [
    "print('sentence' in ner_df.columns)"
   ]
  },
  {
   "cell_type": "code",
   "execution_count": 15,
   "id": "42ec7f15",
   "metadata": {},
   "outputs": [],
   "source": [
    "word_counts = ner_df.apply(lambda x: len(x['sentence'].split(' ')),axis=1)"
   ]
  },
  {
   "cell_type": "code",
   "execution_count": 16,
   "id": "94c07562",
   "metadata": {},
   "outputs": [
    {
     "name": "stdout",
     "output_type": "stream",
     "text": [
      "175\n",
      "11.817455555555556\n",
      "7.0330805462652854\n"
     ]
    }
   ],
   "source": [
    "import numpy as np\n",
    "print(np.max(word_counts))\n",
    "print(np.mean(word_counts))\n",
    "print(np.std(word_counts))"
   ]
  },
  {
   "cell_type": "code",
   "execution_count": 17,
   "id": "864a834f",
   "metadata": {
    "scrolled": true
   },
   "outputs": [
    {
     "name": "stdout",
     "output_type": "stream",
     "text": [
      "10.0\n",
      "7.0\n",
      "15.0\n",
      "35.0\n"
     ]
    }
   ],
   "source": [
    "print(np.median(word_counts))\n",
    "print(np.percentile(word_counts,25))\n",
    "print(np.percentile(word_counts,75))\n",
    "print(np.percentile(word_counts,99))"
   ]
  },
  {
   "cell_type": "code",
   "execution_count": 18,
   "id": "250f00f4",
   "metadata": {},
   "outputs": [],
   "source": [
    "#데이터가 오른쪽으로 치우쳐짐"
   ]
  },
  {
   "cell_type": "code",
   "execution_count": 19,
   "id": "17009552",
   "metadata": {},
   "outputs": [
    {
     "data": {
      "text/plain": [
       "Text(0, 0.5, 'Probability')"
      ]
     },
     "execution_count": 19,
     "metadata": {},
     "output_type": "execute_result"
    },
    {
     "data": {
      "image/png": "[encoded data removed]",
      "text/plain": [
       "<Figure size 1080x720 with 1 Axes>"
      ]
     },
     "metadata": {
      "needs_background": "light"
     },
     "output_type": "display_data"
    }
   ],
   "source": [
    "#visualization\n",
    "import matplotlib.pyplot as plt\n",
    "plt.figure(figsize=(15,10))\n",
    "plt.hist(word_counts,bins=50,range=[0,50],facecolor = 'r',density = True, label='train')\n",
    "plt.title('Distribution of word count in sentence',fontsize = 15)\n",
    "plt.legend()\n",
    "plt.xlabel('Number of words',fontsize= 15)\n",
    "plt.ylabel('Probability',fontsize = 15)"
   ]
  },
  {
   "cell_type": "code",
   "execution_count": 20,
   "id": "1786aa27",
   "metadata": {},
   "outputs": [
    {
     "data": {
      "text/plain": [
       "{'whiskers': [<matplotlib.lines.Line2D at 0x1588241eac0>,\n",
       "  <matplotlib.lines.Line2D at 0x1588241ed90>],\n",
       " 'caps': [<matplotlib.lines.Line2D at 0x15882432160>,\n",
       "  <matplotlib.lines.Line2D at 0x15882432370>],\n",
       " 'boxes': [<matplotlib.lines.Line2D at 0x1588241e7f0>],\n",
       " 'medians': [<matplotlib.lines.Line2D at 0x15882432640>],\n",
       " 'fliers': [<matplotlib.lines.Line2D at 0x15882432c10>],\n",
       " 'means': [<matplotlib.lines.Line2D at 0x15882432910>]}"
      ]
     },
     "execution_count": 20,
     "metadata": {},
     "output_type": "execute_result"
    },
    {
     "data": {
      "image/png": "[encoded data removed]",
      "text/plain": [
       "<Figure size 864x360 with 1 Axes>"
      ]
     },
     "metadata": {
      "needs_background": "light"
     },
     "output_type": "display_data"
    }
   ],
   "source": [
    "#boxplot : 이상치 확인\n",
    "plt.figure(figsize=(12,5))\n",
    "plt.boxplot(word_counts,\n",
    "           labels=['word_counts'],\n",
    "           showmeans=True)"
   ]
  },
  {
   "cell_type": "markdown",
   "id": "dac38a0c",
   "metadata": {},
   "source": [
    "Preprocessing"
   ]
  },
  {
   "cell_type": "code",
   "execution_count": 21,
   "id": "db9844ab",
   "metadata": {},
   "outputs": [],
   "source": [
    "from tensorflow.keras.preprocessing.text import Tokenizer"
   ]
  },
  {
   "cell_type": "code",
   "execution_count": 21,
   "id": "24768982",
   "metadata": {},
   "outputs": [],
   "source": [
    "#tag tokenizer\n",
    "tar_tokenizer = Tokenizer(lower=False)\n",
    "tar_tokenizer.fit_on_texts(new_ner_labels)"
   ]
  },
  {
   "cell_type": "code",
   "execution_count": 22,
   "id": "98f72438",
   "metadata": {},
   "outputs": [],
   "source": [
    "src_tokenizer = Tokenizer()\n",
    "src_tokenizer.fit_on_texts(new_ner_sentences)"
   ]
  },
  {
   "cell_type": "code",
   "execution_count": 23,
   "id": "74106b09",
   "metadata": {},
   "outputs": [
    {
     "name": "stdout",
     "output_type": "stream",
     "text": [
      "단어 집합의 크기 : 331151\n",
      "개체명 태깅 정보 집합의 크기 : 30\n"
     ]
    }
   ],
   "source": [
    "vocab_size = len(src_tokenizer.word_index) + 1\n",
    "tag_size = len(tar_tokenizer.word_index) + 1\n",
    "print('단어 집합의 크기 : {}'.format(vocab_size))\n",
    "print('개체명 태깅 정보 집합의 크기 : {}'.format(tag_size))"
   ]
  },
  {
   "cell_type": "code",
   "execution_count": 25,
   "id": "722790c3",
   "metadata": {},
   "outputs": [],
   "source": [
    "#정수 인코딩 수행\n",
    "X_data = src_tokenizer.texts_to_sequences(new_ner_sentences)\n",
    "y_data = tar_tokenizer.texts_to_sequences(new_ner_labels)"
   ]
  },
  {
   "cell_type": "code",
   "execution_count": 26,
   "id": "a979de05",
   "metadata": {
    "scrolled": true
   },
   "outputs": [
    {
     "name": "stdout",
     "output_type": "stream",
     "text": [
      "[17738, 1176, 21269, 1]\n",
      "[5, 1, 1, 1]\n"
     ]
    }
   ],
   "source": [
    "print(X_data[0])\n",
    "print(y_data[0])"
   ]
  },
  {
   "cell_type": "code",
   "execution_count": 27,
   "id": "3e4776e8",
   "metadata": {},
   "outputs": [
    {
     "name": "stdout",
     "output_type": "stream",
     "text": [
      "{1: 'O', 2: 'CVL-B', 3: 'NUM-B', 4: 'PER-B', 5: 'ORG-B', 6: 'DAT-B', 7: 'LOC-B', 8: 'TRM-B', 9: 'EVT-B', 10: 'NUM-I', 11: 'DAT-I', 12: 'ANM-B', 13: 'EVT-I', 14: 'PER-I', 15: 'ORG-I', 16: 'AFW-B', 17: 'CVL-I', 18: 'TRM-I', 19: 'TIM-B', 20: 'FLD-B', 21: 'AFW-I', 22: 'TIM-I', 23: 'PLT-B', 24: 'MAT-B', 25: 'LOC-I', 26: 'ANM-I', 27: 'FLD-I', 28: 'MAT-I', 29: 'PLT-I'}\n"
     ]
    }
   ],
   "source": [
    "word_to_index = src_tokenizer.word_index\n",
    "index_to_word = src_tokenizer.index_word\n",
    "ner_to_index = tar_tokenizer.word_index\n",
    "index_to_ner = tar_tokenizer.index_word\n",
    "\n",
    "print(index_to_ner)"
   ]
  },
  {
   "cell_type": "code",
   "execution_count": 51,
   "id": "7c8b8e1c",
   "metadata": {},
   "outputs": [
    {
     "name": "stdout",
     "output_type": "stream",
     "text": [
      "17738\n"
     ]
    }
   ],
   "source": [
    "print(word_to_index['금석객잔'])"
   ]
  },
  {
   "cell_type": "code",
   "execution_count": 28,
   "id": "1fb4b5a3",
   "metadata": {},
   "outputs": [],
   "source": [
    "#padding 진행\n",
    "from tensorflow.keras.preprocessing.sequence import pad_sequences\n",
    "\n",
    "\n",
    "max_len = 8\n",
    "X_data = pad_sequences(X_data,padding='post',maxlen = max_len)\n",
    "y_data = pad_sequences(y_data,padding='post',maxlen = max_len)"
   ]
  },
  {
   "cell_type": "code",
   "execution_count": 29,
   "id": "5b8f1ae0",
   "metadata": {},
   "outputs": [],
   "source": [
    "#split data \n",
    "from sklearn.model_selection import train_test_split\n",
    "\n",
    "X_train, X_test, y_train_int, y_test_int = train_test_split(X_data,y_data,test_size = 0.2, \n",
    "                                                   random_state = 777)"
   ]
  },
  {
   "cell_type": "code",
   "execution_count": 30,
   "id": "ebe20b20",
   "metadata": {},
   "outputs": [],
   "source": [
    "#레이블에 해당하는 태깅 정보에 대한 원-핫 인코딩 수행\n",
    "from tensorflow.keras.utils import to_categorical\n",
    "\n",
    "y_train = to_categorical(y_train_int,num_classes=tag_size)\n",
    "y_test = to_categorical(y_test_int,num_classes=tag_size)"
   ]
  },
  {
   "cell_type": "code",
   "execution_count": 31,
   "id": "da967a0b",
   "metadata": {},
   "outputs": [
    {
     "name": "stdout",
     "output_type": "stream",
     "text": [
      "훈련 샘플 문장 크기 : (72000, 8)\n",
      "훈련 샘플 레이블 크기 : (72000, 8, 30)\n",
      "테스트 샘플 문장 크기 : (18000, 8)\n",
      "테스트 샘플 레이블 크기 : (18000, 8, 30)\n"
     ]
    }
   ],
   "source": [
    "print('훈련 샘플 문장 크기 : {}'.format(X_train.shape))\n",
    "print('훈련 샘플 레이블 크기 : {}'.format(y_train.shape))\n",
    "print('테스트 샘플 문장 크기 : {}'.format(X_test.shape))\n",
    "print('테스트 샘플 레이블 크기 : {}'.format(y_test.shape))"
   ]
  },
  {
   "cell_type": "markdown",
   "id": "f8eb16c9",
   "metadata": {},
   "source": [
    "Bi-directional LSTM"
   ]
  },
  {
   "cell_type": "code",
   "execution_count": 32,
   "id": "3d7cc3c0",
   "metadata": {},
   "outputs": [],
   "source": [
    "from tensorflow.keras.models import Sequential \n",
    "from tensorflow.keras.layers import Dense,LSTM, Bidirectional, TimeDistributed, Embedding\n",
    "from tensorflow.keras.optimizers import Adam"
   ]
  },
  {
   "cell_type": "markdown",
   "id": "08504e96",
   "metadata": {},
   "source": [
    "dimension of embedding vector : 128\n",
    "size of hidden layer : 128\n",
    "TimeDistributed : many-to-many LSTM \n",
    "activation function : softmax regression\n",
    "loss function : entropy function \n",
    "batch_size : 128\n",
    "epoch : 8"
   ]
  },
  {
   "cell_type": "code",
   "execution_count": 33,
   "id": "659aa8f8",
   "metadata": {},
   "outputs": [],
   "source": [
    "word_vocab = src_tokenizer.word_index "
   ]
  },
  {
   "cell_type": "code",
   "execution_count": 34,
   "id": "f0a7229a",
   "metadata": {},
   "outputs": [
    {
     "name": "stdout",
     "output_type": "stream",
     "text": [
      "331150\n"
     ]
    }
   ],
   "source": [
    "print(len(word_vocab))"
   ]
  },
  {
   "cell_type": "markdown",
   "id": "eff8e6e5",
   "metadata": {},
   "source": [
    "BiLSTM "
   ]
  },
  {
   "cell_type": "code",
   "execution_count": 33,
   "id": "99d2d5d5",
   "metadata": {},
   "outputs": [
    {
     "name": "stdout",
     "output_type": "stream",
     "text": [
      "Epoch 1/8\n",
      "563/563 [==============================] - 247s 422ms/step - loss: 1.4432 - accuracy: 0.7482 - val_loss: 0.9949 - val_accuracy: 0.7593\n",
      "Epoch 2/8\n",
      "563/563 [==============================] - 240s 427ms/step - loss: 0.9513 - accuracy: 0.7577 - val_loss: 0.9274 - val_accuracy: 0.7593\n",
      "Epoch 3/8\n",
      "563/563 [==============================] - 243s 432ms/step - loss: 0.8602 - accuracy: 0.7584 - val_loss: 0.8506 - val_accuracy: 0.7620\n",
      "Epoch 4/8\n",
      "563/563 [==============================] - 244s 433ms/step - loss: 0.7449 - accuracy: 0.7683 - val_loss: 0.7767 - val_accuracy: 0.7745\n",
      "Epoch 5/8\n",
      "563/563 [==============================] - 245s 434ms/step - loss: 0.6314 - accuracy: 0.7938 - val_loss: 0.7382 - val_accuracy: 0.7843\n",
      "Epoch 6/8\n",
      "563/563 [==============================] - 245s 435ms/step - loss: 0.5506 - accuracy: 0.8233 - val_loss: 0.7181 - val_accuracy: 0.7926\n",
      "Epoch 7/8\n",
      "563/563 [==============================] - 245s 435ms/step - loss: 0.4881 - accuracy: 0.8492 - val_loss: 0.7180 - val_accuracy: 0.7976\n",
      "Epoch 8/8\n",
      "563/563 [==============================] - 244s 434ms/step - loss: 0.4313 - accuracy: 0.8670 - val_loss: 0.7257 - val_accuracy: 0.7958\n"
     ]
    },
    {
     "data": {
      "text/plain": [
       "<tensorflow.python.keras.callbacks.History at 0x1e557f6d940>"
      ]
     },
     "execution_count": 33,
     "metadata": {},
     "output_type": "execute_result"
    }
   ],
   "source": [
    "embedding_dim = 128\n",
    "hidden_units = 128\n",
    "\n",
    "vocab_size = len(word_vocab)+1\n",
    "\n",
    "model = Sequential()\n",
    "model.add(Embedding(input_dim = vocab_size, output_dim = embedding_dim, input_length = max_len, mask_zero=True))\n",
    "model.add(Bidirectional(LSTM(hidden_units, return_sequences = True)))\n",
    "model.add(TimeDistributed(Dense(tag_size,activation='softmax')))\n",
    "\n",
    "model.compile(loss = 'categorical_crossentropy', optimizer = Adam(0.0001), metrics = ['accuracy'])\n",
    "\n",
    "model.fit(X_train,y_train,batch_size=128,epochs = 8, validation_data = (X_test,y_test))"
   ]
  },
  {
   "cell_type": "code",
   "execution_count": 34,
   "id": "30796867",
   "metadata": {},
   "outputs": [
    {
     "name": "stdout",
     "output_type": "stream",
     "text": [
      "563/563 [==============================] - 4s 6ms/step - loss: 0.7257 - accuracy: 0.7958\n",
      "테스트 정확도 : 0.7958\n"
     ]
    }
   ],
   "source": [
    "print('테스트 정확도 : %.4f' %(model.evaluate(X_test,y_test)[1]))"
   ]
  },
  {
   "cell_type": "code",
   "execution_count": 37,
   "id": "d6411523",
   "metadata": {},
   "outputs": [],
   "source": [
    "index_to_word = src_tokenizer.index_word\n",
    "index_to_ner = tar_tokenizer.index_word"
   ]
  },
  {
   "cell_type": "code",
   "execution_count": 38,
   "id": "ab61010e",
   "metadata": {},
   "outputs": [
    {
     "name": "stdout",
     "output_type": "stream",
     "text": [
      "단어             |실제값  |예측값\n",
      "-----------------------------------\n",
      "보살핌은             : CVL-B   CVL-B\n",
      "연전연승에            : O       O\n",
      "의의를              : O       O\n",
      "크게               : O       O\n",
      "두지               : O       O\n",
      "않았다              : O       O\n",
      ".                : O       O\n"
     ]
    }
   ],
   "source": [
    "i = 10 # 확인하고 싶은 테스트용 샘플의 인덱스.\n",
    "\n",
    "# 입력한 테스트용 샘플에 대해서 예측 y를 리턴\n",
    "y_predicted = model.predict(np.array([X_test[i]]))\n",
    "\n",
    "# 확률 벡터를 정수 레이블로 변경.\n",
    "y_predicted = np.argmax(y_predicted, axis=-1)\n",
    "\n",
    "# 원-핫 벡터를 정수 인코딩으로 변경.\n",
    "labels = np.argmax(y_test[i], -1)\n",
    "\n",
    "print(\"{:15}|{:5}|{}\".format(\"단어\", \"실제값\", \"예측값\"))\n",
    "print(35 * \"-\")\n",
    "\n",
    "for word, tag, pred in zip(X_test[i], labels, y_predicted[0]):\n",
    "    if word != 0: # PAD값은 제외함.\n",
    "        print(\"{:17}: {:7} {}\".format(index_to_word[word], index_to_ner[tag].upper(), index_to_ner[pred].upper()))"
   ]
  },
  {
   "cell_type": "markdown",
   "id": "4fe6db67",
   "metadata": {},
   "source": [
    "BiLSTM-CRF"
   ]
  },
  {
   "cell_type": "markdown",
   "id": "96eddf93",
   "metadata": {},
   "source": [
    "CRF 층을 추가하게 되면 모델은 예측 개체명, 즉 레이블 사이의 의존성을 고려할 수 있게 됨"
   ]
  },
  {
   "cell_type": "code",
   "execution_count": 35,
   "id": "1db97703",
   "metadata": {},
   "outputs": [],
   "source": [
    "import tensorflow as tf\n",
    "from tensorflow.keras import Model\n",
    "from tensorflow.keras.layers import Dense, LSTM, Input, Bidirectional, TimeDistributed, Embedding, Dropout\n",
    "from tensorflow.keras.callbacks import EarlyStopping, ModelCheckpoint\n",
    "from keras_crf import CRFModel\n",
    "from seqeval.metrics import f1_score, classification_report"
   ]
  },
  {
   "cell_type": "code",
   "execution_count": 36,
   "id": "c94d24d7",
   "metadata": {},
   "outputs": [],
   "source": [
    "embedding_dim = 128\n",
    "hidden_units = 64\n",
    "dropout_ratio = 0.3\n",
    "\n",
    "sequence_input = Input(shape=(max_len,),dtype=tf.int32, name='sequence_input')\n",
    "\n",
    "model_embedding = Embedding(input_dim=vocab_size,\n",
    "                            output_dim=embedding_dim,\n",
    "                            input_length=max_len)(sequence_input)\n",
    "\n",
    "model_bilstm = Bidirectional(LSTM(units=hidden_units, return_sequences=True))(model_embedding)\n",
    "\n",
    "model_dropout = TimeDistributed(Dropout(dropout_ratio))(model_bilstm)\n",
    "\n",
    "model_dense = TimeDistributed(Dense(tag_size, activation='relu'))(model_dropout)\n",
    "\n",
    "base = Model(inputs=sequence_input, outputs=model_dense)\n",
    "model = CRFModel(base, tag_size)\n",
    "model.compile(optimizer=tf.keras.optimizers.Adam(0.001), metrics='accuracy')"
   ]
  },
  {
   "cell_type": "code",
   "execution_count": 37,
   "id": "6efe4e11",
   "metadata": {},
   "outputs": [
    {
     "name": "stdout",
     "output_type": "stream",
     "text": [
      "Epoch 1/15\n",
      "WARNING:tensorflow:From C:\\Users\\user\\anaconda3\\lib\\site-packages\\tensorflow\\python\\ops\\array_ops.py:5043: calling gather (from tensorflow.python.ops.array_ops) with validate_indices is deprecated and will be removed in a future version.\n",
      "Instructions for updating:\n",
      "The `validate_indices` argument has no effect. Indices are always validated on CPU and never validated on GPU.\n",
      "507/507 [==============================] - 250s 468ms/step - decode_sequence_accuracy: 0.7776 - loss: 7.8704 - val_decode_sequence_accuracy: 0.8115 - val_loss: 6.9992\n",
      "\n",
      "Epoch 00001: val_decode_sequence_accuracy improved from -inf to 0.81146, saving model to bilstm_crf\\cp.ckpt\n",
      "Epoch 2/15\n",
      "507/507 [==============================] - 245s 484ms/step - decode_sequence_accuracy: 0.8583 - loss: 3.8557 - val_decode_sequence_accuracy: 0.8399 - val_loss: 5.8243\n",
      "\n",
      "Epoch 00002: val_decode_sequence_accuracy improved from 0.81146 to 0.83993, saving model to bilstm_crf\\cp.ckpt\n",
      "Epoch 3/15\n",
      "507/507 [==============================] - 258s 509ms/step - decode_sequence_accuracy: 0.9261 - loss: 1.8524 - val_decode_sequence_accuracy: 0.8293 - val_loss: 6.6375\n",
      "\n",
      "Epoch 00003: val_decode_sequence_accuracy did not improve from 0.83993\n",
      "Epoch 4/15\n",
      "507/507 [==============================] - 274s 540ms/step - decode_sequence_accuracy: 0.9660 - loss: 0.7830 - val_decode_sequence_accuracy: 0.8299 - val_loss: 7.4118\n",
      "\n",
      "Epoch 00004: val_decode_sequence_accuracy did not improve from 0.83993\n",
      "Epoch 5/15\n",
      "507/507 [==============================] - 272s 537ms/step - decode_sequence_accuracy: 0.9832 - loss: 0.3647 - val_decode_sequence_accuracy: 0.8368 - val_loss: 8.3873\n",
      "\n",
      "Epoch 00005: val_decode_sequence_accuracy did not improve from 0.83993\n",
      "Epoch 6/15\n",
      "507/507 [==============================] - 260s 512ms/step - decode_sequence_accuracy: 0.9905 - loss: 0.2005 - val_decode_sequence_accuracy: 0.8300 - val_loss: 9.1468\n",
      "\n",
      "Epoch 00006: val_decode_sequence_accuracy did not improve from 0.83993\n",
      "Epoch 00006: early stopping\n"
     ]
    }
   ],
   "source": [
    "es = EarlyStopping(monitor='val_loss', mode='min', verbose=1, patience=4)\n",
    "mc = ModelCheckpoint('bilstm_crf/cp.ckpt', monitor='val_decode_sequence_accuracy', mode='max', verbose=1, save_best_only=True, save_weights_only=True)\n",
    "\n",
    "history = model.fit(X_train, y_train_int, batch_size=128, epochs=15, validation_split=0.1, callbacks=[mc, es])"
   ]
  },
  {
   "cell_type": "code",
   "execution_count": 38,
   "id": "0a025bca",
   "metadata": {},
   "outputs": [
    {
     "name": "stdout",
     "output_type": "stream",
     "text": [
      "단어             |실제값  |예측값\n",
      "-----------------------------------\n",
      "섀넌에게             : PER-B   PER-B\n",
      "결승전              : EVT-B   EVT-B\n",
      "독창               : NUM-B   O\n",
      "홈런을              : O       O\n",
      "맞고               : O       O\n",
      "4-2로             : NUM-B   O\n",
      "졌다               : O       O\n",
      ".                : O       O\n"
     ]
    }
   ],
   "source": [
    "model.load_weights('bilstm_crf/cp.ckpt')\n",
    "\n",
    "i = 13 # 확인하고 싶은 테스트용 샘플의 인덱스.\n",
    "y_predicted = model.predict(np.array([X_test[i]]))[0] # 입력한 테스트용 샘플에 대해서 예측 y를 리턴\n",
    "labels = np.argmax(y_test[i], -1) # 원-핫 인코딩을 다시 정수 인코딩으로 변경.\n",
    "\n",
    "print(\"{:15}|{:5}|{}\".format(\"단어\", \"실제값\", \"예측값\"))\n",
    "print(35 * \"-\")\n",
    "\n",
    "for word, tag, pred in zip(X_test[i], labels, y_predicted[0]):\n",
    "    if word != 0: # PAD값은 제외함.\n",
    "        print(\"{:17}: {:7} {}\".format(index_to_word[word], index_to_ner[tag], index_to_ner[pred]))"
   ]
  },
  {
   "cell_type": "code",
   "execution_count": 39,
   "id": "10ea248d",
   "metadata": {},
   "outputs": [],
   "source": [
    "y_predicted = model.predict(X_test)[0]"
   ]
  },
  {
   "cell_type": "code",
   "execution_count": 40,
   "id": "2016aa76",
   "metadata": {
    "scrolled": true
   },
   "outputs": [
    {
     "name": "stdout",
     "output_type": "stream",
     "text": [
      "[[ 4  8  1  1  1  6  0  0]\n",
      " [ 5  9  9 13  3  1  1  1]]\n"
     ]
    }
   ],
   "source": [
    "print(y_predicted[:2])"
   ]
  },
  {
   "cell_type": "code",
   "execution_count": 44,
   "id": "f6d7e752",
   "metadata": {},
   "outputs": [],
   "source": [
    "index_to_ner[0] = \"PAD\""
   ]
  },
  {
   "cell_type": "code",
   "execution_count": 45,
   "id": "cc58af38",
   "metadata": {
    "scrolled": true
   },
   "outputs": [
    {
     "data": {
      "text/plain": [
       "{1: 'O',\n",
       " 2: 'CVL-B',\n",
       " 3: 'NUM-B',\n",
       " 4: 'PER-B',\n",
       " 5: 'ORG-B',\n",
       " 6: 'DAT-B',\n",
       " 7: 'LOC-B',\n",
       " 8: 'TRM-B',\n",
       " 9: 'EVT-B',\n",
       " 10: 'NUM-I',\n",
       " 11: 'DAT-I',\n",
       " 12: 'ANM-B',\n",
       " 13: 'EVT-I',\n",
       " 14: 'PER-I',\n",
       " 15: 'ORG-I',\n",
       " 16: 'AFW-B',\n",
       " 17: 'CVL-I',\n",
       " 18: 'TRM-I',\n",
       " 19: 'TIM-B',\n",
       " 20: 'FLD-B',\n",
       " 21: 'AFW-I',\n",
       " 22: 'TIM-I',\n",
       " 23: 'PLT-B',\n",
       " 24: 'MAT-B',\n",
       " 25: 'LOC-I',\n",
       " 26: 'ANM-I',\n",
       " 27: 'FLD-I',\n",
       " 28: 'MAT-I',\n",
       " 29: 'PLT-I',\n",
       " 0: 'PAD'}"
      ]
     },
     "execution_count": 45,
     "metadata": {},
     "output_type": "execute_result"
    }
   ],
   "source": [
    "index_to_ner"
   ]
  },
  {
   "cell_type": "code",
   "execution_count": 47,
   "id": "8de0e9f5",
   "metadata": {},
   "outputs": [],
   "source": [
    "from seqeval.metrics import f1_score, classification_report\n",
    "\n",
    "def sequences_to_tag(sequences):\n",
    "    result = []\n",
    "    # 전체 시퀀스로부터 시퀀스를 하나씩 꺼낸다.\n",
    "    for sequence in sequences:\n",
    "        word_sequence = []\n",
    "        # 시퀀스로부터 확률 벡터 또는 원-핫 벡터를 하나씩 꺼낸다.\n",
    "        for pred in sequence:\n",
    "            # 정수로 변환. 예를 들어 pred가 [0, 0, 1, 0 ,0]라면 1의 인덱스인 2를 리턴한다.\n",
    "            pred_index = np.argmax(pred)            \n",
    "            # index_to_ner을 사용하여 정수를 태깅 정보로 변환. 'PAD'는 'O'로 변경.\n",
    "            word_sequence.append(index_to_ner[pred_index].replace(\"PAD\", \"O\"))\n",
    "        result.append(word_sequence)\n",
    "    return result"
   ]
  },
  {
   "cell_type": "code",
   "execution_count": 48,
   "id": "bb231615",
   "metadata": {},
   "outputs": [
    {
     "name": "stderr",
     "output_type": "stream",
     "text": [
      "C:\\Users\\user\\anaconda3\\lib\\site-packages\\seqeval\\metrics\\sequence_labeling.py:171: UserWarning: PER-B seems not to be NE tag.\n",
      "  warnings.warn('{} seems not to be NE tag.'.format(chunk))\n",
      "C:\\Users\\user\\anaconda3\\lib\\site-packages\\seqeval\\metrics\\sequence_labeling.py:171: UserWarning: TRM-B seems not to be NE tag.\n",
      "  warnings.warn('{} seems not to be NE tag.'.format(chunk))\n",
      "C:\\Users\\user\\anaconda3\\lib\\site-packages\\seqeval\\metrics\\sequence_labeling.py:171: UserWarning: DAT-B seems not to be NE tag.\n",
      "  warnings.warn('{} seems not to be NE tag.'.format(chunk))\n",
      "C:\\Users\\user\\anaconda3\\lib\\site-packages\\seqeval\\metrics\\sequence_labeling.py:171: UserWarning: ORG-B seems not to be NE tag.\n",
      "  warnings.warn('{} seems not to be NE tag.'.format(chunk))\n",
      "C:\\Users\\user\\anaconda3\\lib\\site-packages\\seqeval\\metrics\\sequence_labeling.py:171: UserWarning: EVT-I seems not to be NE tag.\n",
      "  warnings.warn('{} seems not to be NE tag.'.format(chunk))\n",
      "C:\\Users\\user\\anaconda3\\lib\\site-packages\\seqeval\\metrics\\sequence_labeling.py:171: UserWarning: EVT-B seems not to be NE tag.\n",
      "  warnings.warn('{} seems not to be NE tag.'.format(chunk))\n",
      "C:\\Users\\user\\anaconda3\\lib\\site-packages\\seqeval\\metrics\\sequence_labeling.py:171: UserWarning: NUM-B seems not to be NE tag.\n",
      "  warnings.warn('{} seems not to be NE tag.'.format(chunk))\n",
      "C:\\Users\\user\\anaconda3\\lib\\site-packages\\seqeval\\metrics\\sequence_labeling.py:171: UserWarning: CVL-B seems not to be NE tag.\n",
      "  warnings.warn('{} seems not to be NE tag.'.format(chunk))\n",
      "C:\\Users\\user\\anaconda3\\lib\\site-packages\\seqeval\\metrics\\sequence_labeling.py:171: UserWarning: AFW-B seems not to be NE tag.\n",
      "  warnings.warn('{} seems not to be NE tag.'.format(chunk))\n",
      "C:\\Users\\user\\anaconda3\\lib\\site-packages\\seqeval\\metrics\\sequence_labeling.py:171: UserWarning: AFW-I seems not to be NE tag.\n",
      "  warnings.warn('{} seems not to be NE tag.'.format(chunk))\n",
      "C:\\Users\\user\\anaconda3\\lib\\site-packages\\seqeval\\metrics\\sequence_labeling.py:171: UserWarning: TIM-B seems not to be NE tag.\n",
      "  warnings.warn('{} seems not to be NE tag.'.format(chunk))\n",
      "C:\\Users\\user\\anaconda3\\lib\\site-packages\\seqeval\\metrics\\sequence_labeling.py:171: UserWarning: NUM-I seems not to be NE tag.\n",
      "  warnings.warn('{} seems not to be NE tag.'.format(chunk))\n",
      "C:\\Users\\user\\anaconda3\\lib\\site-packages\\seqeval\\metrics\\sequence_labeling.py:171: UserWarning: LOC-B seems not to be NE tag.\n",
      "  warnings.warn('{} seems not to be NE tag.'.format(chunk))\n",
      "C:\\Users\\user\\anaconda3\\lib\\site-packages\\seqeval\\metrics\\sequence_labeling.py:171: UserWarning: ANM-B seems not to be NE tag.\n",
      "  warnings.warn('{} seems not to be NE tag.'.format(chunk))\n",
      "C:\\Users\\user\\anaconda3\\lib\\site-packages\\seqeval\\metrics\\sequence_labeling.py:171: UserWarning: FLD-B seems not to be NE tag.\n",
      "  warnings.warn('{} seems not to be NE tag.'.format(chunk))\n",
      "C:\\Users\\user\\anaconda3\\lib\\site-packages\\seqeval\\metrics\\sequence_labeling.py:171: UserWarning: PER-I seems not to be NE tag.\n",
      "  warnings.warn('{} seems not to be NE tag.'.format(chunk))\n",
      "C:\\Users\\user\\anaconda3\\lib\\site-packages\\seqeval\\metrics\\sequence_labeling.py:171: UserWarning: CVL-I seems not to be NE tag.\n",
      "  warnings.warn('{} seems not to be NE tag.'.format(chunk))\n",
      "C:\\Users\\user\\anaconda3\\lib\\site-packages\\seqeval\\metrics\\sequence_labeling.py:171: UserWarning: LOC-I seems not to be NE tag.\n",
      "  warnings.warn('{} seems not to be NE tag.'.format(chunk))\n",
      "C:\\Users\\user\\anaconda3\\lib\\site-packages\\seqeval\\metrics\\sequence_labeling.py:171: UserWarning: DAT-I seems not to be NE tag.\n",
      "  warnings.warn('{} seems not to be NE tag.'.format(chunk))\n",
      "C:\\Users\\user\\anaconda3\\lib\\site-packages\\seqeval\\metrics\\sequence_labeling.py:171: UserWarning: ORG-I seems not to be NE tag.\n",
      "  warnings.warn('{} seems not to be NE tag.'.format(chunk))\n",
      "C:\\Users\\user\\anaconda3\\lib\\site-packages\\seqeval\\metrics\\sequence_labeling.py:171: UserWarning: TRM-I seems not to be NE tag.\n",
      "  warnings.warn('{} seems not to be NE tag.'.format(chunk))\n",
      "C:\\Users\\user\\anaconda3\\lib\\site-packages\\seqeval\\metrics\\sequence_labeling.py:171: UserWarning: ANM-I seems not to be NE tag.\n",
      "  warnings.warn('{} seems not to be NE tag.'.format(chunk))\n",
      "C:\\Users\\user\\anaconda3\\lib\\site-packages\\seqeval\\metrics\\sequence_labeling.py:171: UserWarning: MAT-B seems not to be NE tag.\n",
      "  warnings.warn('{} seems not to be NE tag.'.format(chunk))\n",
      "C:\\Users\\user\\anaconda3\\lib\\site-packages\\seqeval\\metrics\\sequence_labeling.py:171: UserWarning: TIM-I seems not to be NE tag.\n",
      "  warnings.warn('{} seems not to be NE tag.'.format(chunk))\n",
      "C:\\Users\\user\\anaconda3\\lib\\site-packages\\seqeval\\metrics\\sequence_labeling.py:171: UserWarning: MAT-I seems not to be NE tag.\n",
      "  warnings.warn('{} seems not to be NE tag.'.format(chunk))\n",
      "C:\\Users\\user\\anaconda3\\lib\\site-packages\\seqeval\\metrics\\sequence_labeling.py:171: UserWarning: PLT-B seems not to be NE tag.\n",
      "  warnings.warn('{} seems not to be NE tag.'.format(chunk))\n",
      "C:\\Users\\user\\anaconda3\\lib\\site-packages\\seqeval\\metrics\\sequence_labeling.py:171: UserWarning: PLT-I seems not to be NE tag.\n",
      "  warnings.warn('{} seems not to be NE tag.'.format(chunk))\n",
      "C:\\Users\\user\\anaconda3\\lib\\site-packages\\seqeval\\metrics\\sequence_labeling.py:171: UserWarning: FLD-I seems not to be NE tag.\n",
      "  warnings.warn('{} seems not to be NE tag.'.format(chunk))\n"
     ]
    },
    {
     "name": "stdout",
     "output_type": "stream",
     "text": [
      "F1-score: 41.9%\n",
      "              precision    recall  f1-score   support\n",
      "\n",
      "           B       0.54      0.35      0.43     17815\n",
      "           I       0.68      0.26      0.37      3031\n",
      "\n",
      "   micro avg       0.55      0.34      0.42     20846\n",
      "   macro avg       0.61      0.30      0.40     20846\n",
      "weighted avg       0.56      0.34      0.42     20846\n",
      "\n"
     ]
    }
   ],
   "source": [
    "def sequences_to_tag_for_crf(sequences): \n",
    "    result = []\n",
    "    # 전체 시퀀스로부터 시퀀스를 하나씩 꺼낸다.\n",
    "    for sequence in sequences: \n",
    "        word_sequence = []\n",
    "        # 시퀀스로부터 예측 정수 레이블을 하나씩 꺼낸다.\n",
    "        for pred_index in sequence:\n",
    "            # index_to_ner을 사용하여 정수를 태깅 정보로 변환. 'PAD'는 'O'로 변경.\n",
    "            word_sequence.append(index_to_ner[pred_index].replace(\"PAD\", \"O\"))\n",
    "        result.append(word_sequence)\n",
    "    return result\n",
    "\n",
    "pred_tags = sequences_to_tag_for_crf(y_predicted)\n",
    "test_tags = sequences_to_tag(y_test)\n",
    "\n",
    "print(\"F1-score: {:.1%}\".format(f1_score(test_tags, pred_tags)))\n",
    "print(classification_report(test_tags, pred_tags))"
   ]
  },
  {
   "cell_type": "code",
   "execution_count": null,
   "id": "bc5cc9ec",
   "metadata": {},
   "outputs": [],
   "source": []
  }
 ],
 "metadata": {
  "kernelspec": {
   "display_name": "Python 3",
   "language": "python",
   "name": "python3"
  },
  "language_info": {
   "codemirror_mode": {
    "name": "ipython",
    "version": 3
   },
   "file_extension": ".py",
   "mimetype": "text/x-python",
   "name": "python",
   "nbconvert_exporter": "python",
   "pygments_lexer": "ipython3",
   "version": "3.8.5"
  }
 },
 "nbformat": 4,
 "nbformat_minor": 5
}
